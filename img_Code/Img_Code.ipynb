{
 "cells": [
  {
   "cell_type": "code",
   "execution_count": 1,
   "metadata": {},
   "outputs": [],
   "source": [
    "import cv2\n",
    "import os"
   ]
  },
  {
   "cell_type": "markdown",
   "metadata": {},
   "source": [
    "# 동영상을 프레임 단위로 이미지로 저장"
   ]
  },
  {
   "cell_type": "code",
   "execution_count": null,
   "metadata": {},
   "outputs": [],
   "source": [
    "# Deepfake 폴더의 경로를 지정합니다.\n",
    "folder_path = '106792'\n",
    "count = 0\n",
    "\n",
    "# 폴더 안의 모든 파일을 확인하고 동영상 파일만 출력합니다.\n",
    "for file_name in os.listdir(folder_path):\n",
    "    # 동영상 파일의 확장자를 확인합니다.\n",
    "    if file_name.endswith(('.mp4', '.avi', '.mov', '.mkv', '.flv', '.wmv')):\n",
    "        print(file_name)\n",
    "        count += 1\n",
    "\n",
    "        # 동영상 파일 열기\n",
    "        video = cv2.VideoCapture(folder_path + \"/\" + file_name)\n",
    "\n",
    "        # 동영상의 프레임 수\n",
    "        frame_count = int(video.get(cv2.CAP_PROP_FRAME_COUNT))\n",
    "\n",
    "        # 프레임을 이미지로 변환하고 파일로 저장\n",
    "        for i in range(frame_count):\n",
    "            ret, frame = video.read()\n",
    "            if ret:\n",
    "                image_path = f\"./Deepfake/fake{count}_{i}.jpg\"\n",
    "                cv2.imwrite(image_path, frame)\n",
    "\n",
    "        # 동영상 파일 닫기\n",
    "        video.release()"
   ]
  },
  {
   "cell_type": "code",
   "execution_count": null,
   "metadata": {},
   "outputs": [],
   "source": [
    "# Non Deepfake 폴더의 경로를 지정합니다.\n",
    "folder_path = '106793'\n",
    "count = 0\n",
    "\n",
    "# 폴더 안의 모든 파일을 확인하고 동영상 파일만 출력합니다.\n",
    "for file_name in os.listdir(folder_path):\n",
    "    # 동영상 파일의 확장자를 확인합니다.\n",
    "    if file_name.endswith(('.mp4', '.avi', '.mov', '.mkv', '.flv', '.wmv')):\n",
    "        print(file_name)\n",
    "        count += 1\n",
    "\n",
    "        # 동영상 파일 열기\n",
    "        video = cv2.VideoCapture(folder_path + \"/\" + file_name)\n",
    "\n",
    "        # 동영상의 프레임 수\n",
    "        frame_count = int(video.get(cv2.CAP_PROP_FRAME_COUNT))\n",
    "\n",
    "        # 프레임을 이미지로 변환하고 파일로 저장\n",
    "        for i in range(frame_count):\n",
    "            ret, frame = video.read()\n",
    "            if ret:\n",
    "                image_path = f\"./NoDeepfake/Non_fake{count}_{i}.jpg\"\n",
    "                cv2.imwrite(image_path, frame)\n",
    "\n",
    "        # 동영상 파일 닫기\n",
    "        video.release()"
   ]
  },
  {
   "cell_type": "markdown",
   "metadata": {},
   "source": [
    "# 랜덤으로 복사"
   ]
  },
  {
   "cell_type": "code",
   "execution_count": 3,
   "metadata": {},
   "outputs": [],
   "source": [
    "import os\n",
    "import shutil\n",
    "import random\n",
    "\n",
    "def copy_random_images(source_folder, target_folder, num_images):\n",
    "  \"\"\"\n",
    "  지정된 폴더에서 랜덤으로 이미지를 선택하여 다른 폴더로 복사합니다.\n",
    "\n",
    "  Args:\n",
    "    source_folder: 이미지 파일이 있는 소스 폴더 경로\n",
    "    target_folder: 이미지 파일을 복사할 대상 폴더 경로\n",
    "    num_images: 복사할 이미지 개수\n",
    "  \"\"\"\n",
    "\n",
    "  if not os.path.exists(target_folder):\n",
    "    os.makedirs(target_folder)\n",
    "\n",
    "  # 소스 폴더 내의 모든 이미지 파일 목록 가져오기\n",
    "  images = [f for f in os.listdir(source_folder) if f.endswith(('.jpg', '.jpeg', '.png'))]\n",
    "\n",
    "  # 랜덤으로 이미지 선택\n",
    "  random_images = random.sample(images, num_images)\n",
    "\n",
    "  # 선택된 이미지 복사\n",
    "  for image in random_images:\n",
    "    src_file = os.path.join(source_folder, image)\n",
    "    dst_file = os.path.join(target_folder, image)\n",
    "    shutil.copy2(src_file, dst_file)\n",
    "\n",
    "# 사용 예시\n",
    "source_folder = \"Deepfake\"\n",
    "target_folder = \"copied_images/\" + source_folder\n",
    "num_images = 2500\n",
    "\n",
    "copy_random_images(source_folder, target_folder, num_images)"
   ]
  },
  {
   "cell_type": "code",
   "execution_count": null,
   "metadata": {},
   "outputs": [],
   "source": []
  }
 ],
 "metadata": {
  "kernelspec": {
   "display_name": "AiModule",
   "language": "python",
   "name": "python3"
  },
  "language_info": {
   "codemirror_mode": {
    "name": "ipython",
    "version": 3
   },
   "file_extension": ".py",
   "mimetype": "text/x-python",
   "name": "python",
   "nbconvert_exporter": "python",
   "pygments_lexer": "ipython3",
   "version": "3.12.2"
  }
 },
 "nbformat": 4,
 "nbformat_minor": 2
}
